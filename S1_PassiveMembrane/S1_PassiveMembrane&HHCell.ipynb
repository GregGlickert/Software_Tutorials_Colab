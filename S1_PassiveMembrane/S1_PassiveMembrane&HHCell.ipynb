{
  "nbformat": 4,
  "nbformat_minor": 0,
  "metadata": {
    "kernelspec": {
      "display_name": "Python 3",
      "language": "python",
      "name": "python3"
    },
    "language_info": {
      "codemirror_mode": {
        "name": "ipython",
        "version": 3
      },
      "file_extension": ".py",
      "mimetype": "text/x-python",
      "name": "python",
      "nbconvert_exporter": "python",
      "pygments_lexer": "ipython3",
      "version": "3.8.10"
    },
    "colab": {
      "name": "S1_PassiveMembrane&HHCell.ipynb",
      "provenance": [],
      "collapsed_sections": []
    }
  },
  "cells": [
    {
      "cell_type": "markdown",
      "metadata": {
        "id": "oY0Il8YfoGMe"
      },
      "source": [
        "# S1 How do we model a passive cell membrane?\n",
        "## - from passive membrane to Hodgkin-Huxley model\n",
        "\n",
        "##### Developed in the Neural Engineering Laboratory at the University of Missouri by Ben Latimer & Ziao Chen\n",
        "\n",
        "<img src=\"Neuron_1.jpg\">\n",
        "\n",
        "## Introduction videos of neurobiology basics\n",
        "\n",
        "Note: This will not work inside the NeuroLab browser.If the videos below do not play, please visit https://youtu.be/<insert video ID here\\> in your native browser."
      ]
    },
    {
      "cell_type": "code",
      "metadata": {
        "id": "3lpAt5rLoGMh"
      },
      "source": [
        "from IPython.display import HTML,YouTubeVideo\n",
        "YouTubeVideo('PtKAeihnbv0')"
      ],
      "execution_count": null,
      "outputs": []
    },
    {
      "cell_type": "code",
      "metadata": {
        "id": "abzO0MrFoGMk"
      },
      "source": [
        "YouTubeVideo('RTRZNK9Aahc')"
      ],
      "execution_count": null,
      "outputs": []
    },
    {
      "cell_type": "code",
      "metadata": {
        "id": "-0FONbGHoGMk"
      },
      "source": [
        "YouTubeVideo('U0NpTdge3aw')"
      ],
      "execution_count": null,
      "outputs": []
    },
    {
      "cell_type": "markdown",
      "metadata": {
        "id": "6YJqFTpqoGMl"
      },
      "source": [
        "### In this tutorial, we'll explore the properties of the cell membrane and the mechanisms of the action potential. We'll introduce you how to simulate a cell in the NEURON + Python environment. If this is your first time coding, don't worry! Just click the \"Run\" button above to go through step-by-step. You don't need to change anything yet. \n",
        "\n",
        "### Before you start any project, you need to get the tools. In Python, we do this using the \"import\" statement in the cell below. Click \"Run\" to proceed."
      ]
    },
    {
      "cell_type": "code",
      "metadata": {
        "id": "qxtNKMl8oGMl"
      },
      "source": [
        "!pip install neuron"
      ],
      "execution_count": null,
      "outputs": []
    },
    {
      "cell_type": "code",
      "metadata": {
        "colab": {
          "base_uri": "https://localhost:8080/"
        },
        "id": "H-49_kxQoGMm",
        "outputId": "1f7c2fde-1304-4e7b-d7a2-16b42e7c4913"
      },
      "source": [
        "from neuron import h\n",
        "\n",
        "h.load_file('stdrun.hoc')"
      ],
      "execution_count": 1,
      "outputs": [
        {
          "output_type": "execute_result",
          "data": {
            "text/plain": [
              "1.0"
            ]
          },
          "metadata": {},
          "execution_count": 1
        }
      ]
    },
    {
      "cell_type": "markdown",
      "metadata": {
        "id": "7UwvkINNoGMm"
      },
      "source": [
        "## 1) <u>Create the cell and define its geometry\n",
        "\n",
        "### NEURON defines a cell as a cylinder. Remember, cells in NEURON are simplified. We will make a one-compartment cell which is just a cylinder with length and diameter.\n",
        "\n",
        "<img src=\"cylinder.png\">"
      ]
    },
    {
      "cell_type": "code",
      "metadata": {
        "id": "mkYhAwfcoGMm"
      },
      "source": [
        "#Create the soma section and define the default parameters\n",
        "soma = h.Section(name='soma')\n",
        "soma.diam = 200 # micrometers\n",
        "soma.L = 100 # micrometers"
      ],
      "execution_count": 2,
      "outputs": []
    },
    {
      "cell_type": "markdown",
      "metadata": {
        "id": "0K8ZpToIoGMn"
      },
      "source": [
        "## 2) <u>Define the cell's biophysics\n",
        "\n",
        "### Insert the Hodgkin-Huxley channels and define the conductance. First let's make a passive cell by setting the conductances of the active channels (gNa,gK) to 0. "
      ]
    },
    {
      "cell_type": "code",
      "metadata": {
        "id": "RVsrR09moGMn"
      },
      "source": [
        "soma.cm = 1.4884e-4/6.2832e-4 # membrane capacitance uF/cm2\n",
        "\n",
        "soma.insert('hh')\n",
        "soma.gnabar_hh = 0 # Sodium channel\n",
        "soma.gkbar_hh = 0 # Potassium channel\n",
        "soma.gl_hh = 2.0e-5 # leak channel S/cm2\n",
        "soma.el_hh = -70 # reveral potential mV\n",
        "\n",
        "h.v_init= -60"
      ],
      "execution_count": 3,
      "outputs": []
    },
    {
      "cell_type": "markdown",
      "metadata": {
        "id": "U6nxBtlkoGMo"
      },
      "source": [
        "## 3) <u>Inject Current\n",
        "    \n",
        "### Neuroscientists call this experiment a \"current clamp\". We place an electrode into the cell and inject current."
      ]
    },
    {
      "cell_type": "code",
      "metadata": {
        "id": "u-eTMsCooGMo"
      },
      "source": [
        "# Inject current in the middle of the soma\n",
        "stim = h.IClamp(soma(0.5))\n",
        "stim.delay = 100.0 # delay in ms\n",
        "stim.dur = 500.0 # duration in ms\n",
        "stim.amp = 1.0 # amplitude in nA"
      ],
      "execution_count": 4,
      "outputs": []
    },
    {
      "cell_type": "markdown",
      "metadata": {
        "id": "XFrXAZ-XoGMo"
      },
      "source": [
        "## 4) <u>Define simulation parameters and run!"
      ]
    },
    {
      "cell_type": "code",
      "metadata": {
        "colab": {
          "base_uri": "https://localhost:8080/"
        },
        "id": "27RQW5hjoGMp",
        "outputId": "97abba96-6f1e-40d2-eb92-d9dbbea68e49"
      },
      "source": [
        "h.tstop = tstop = 800 # how long to run the simulation in ms\n",
        "h.dt = 0.025 # time step (resolution) of the simulation in ms\n",
        "\n",
        "# define two vectors for recording variables\n",
        "v0_vec = h.Vector()\n",
        "t_vec = h.Vector()\n",
        "\n",
        "# record the voltage (_ref_v) and time (_ref_t) into the vectors we just created\n",
        "v0_vec.record(soma(0.5)._ref_v)\n",
        "t_vec.record(h._ref_t)\n",
        "\n",
        "h.run()"
      ],
      "execution_count": 5,
      "outputs": [
        {
          "output_type": "execute_result",
          "data": {
            "text/plain": [
              "0.0"
            ]
          },
          "metadata": {},
          "execution_count": 5
        }
      ]
    },
    {
      "cell_type": "markdown",
      "metadata": {
        "id": "g4vex56roGMp"
      },
      "source": [
        "## 5) <u> Visualize the membrane potential\n",
        "    \n",
        "### The data isn't going to visualize itself! We use a package called matplotlib to draw the vectors so we can see them."
      ]
    },
    {
      "cell_type": "code",
      "metadata": {
        "colab": {
          "base_uri": "https://localhost:8080/",
          "height": 279
        },
        "id": "l_5OlDnZoGMp",
        "outputId": "6b52e7ca-97c3-4ce8-96e9-b19b94dad975"
      },
      "source": [
        "# use inline plot\n",
        "%matplotlib inline\n",
        "# use interactive plot\n",
        "# %matplotlib notebook\n",
        "import matplotlib.pyplot as plt # We use this package for visualization\n",
        "\n",
        "plt.figure()\n",
        "plt.plot(t_vec, v0_vec,'b')\n",
        "plt.xlim(0, tstop)\n",
        "plt.xlabel('time (ms)')\n",
        "plt.ylabel('mV')\n",
        "\n",
        "plt.show()"
      ],
      "execution_count": 6,
      "outputs": [
        {
          "output_type": "display_data",
          "data": {
            "image/png": "[encoded data removed]",
            "text/plain": [
              "<Figure size 432x288 with 1 Axes>"
            ]
          },
          "metadata": {
            "needs_background": "light"
          }
        }
      ]
    },
    {
      "cell_type": "markdown",
      "metadata": {
        "id": "CSPjlgERoGMq"
      },
      "source": [
        "## 6) <u> Get some action potentials!\n",
        "    \n",
        "### We will make the conductances of the active channels nonzero so that we will see some action potentials."
      ]
    },
    {
      "cell_type": "code",
      "metadata": {
        "colab": {
          "base_uri": "https://localhost:8080/",
          "height": 334
        },
        "id": "z8WpLEyEoGMq",
        "outputId": "403cfb07-19fe-4329-bda5-36c8c581244e"
      },
      "source": [
        "soma.gnabar_hh = 0.12 # Sodium channel S/cm2\n",
        "soma.gkbar_hh = 0.012 # Potassium channel S/cm2\n",
        "\n",
        "stim.delay = 100.0 # delay in ms\n",
        "stim.dur = 150.0 # duration in ms\n",
        "stim.amp = 0.03 # amplitude in nA\n",
        "\n",
        "h.tstop = tstop = 350\n",
        "\n",
        "# run the simulation!\n",
        "h.run()\n",
        "\n",
        "plt.figure(figsize=(10,5))\n",
        "plt.plot(t_vec, v0_vec,'b')\n",
        "plt.xlim(0, tstop)\n",
        "plt.xlabel('time (ms)')\n",
        "plt.ylabel('mV')\n",
        "\n",
        "plt.show()"
      ],
      "execution_count": 7,
      "outputs": [
        {
          "output_type": "display_data",
          "data": {
            "image/png": "[encoded data removed]",
            "text/plain": [
              "<Figure size 720x360 with 1 Axes>"
            ]
          },
          "metadata": {
            "needs_background": "light"
          }
        }
      ]
    },
    {
      "cell_type": "markdown",
      "metadata": {
        "id": "WML28HpMoGMr"
      },
      "source": [
        "## 7) <u> Record the gating variables\n",
        "    \n",
        "### You should see some spikes in the plot above. If you don't, go back to the top of the notebook and run all the cells again. Neurons spike because of the voltage dependent proteins embedded in their membranes. Let's record those and then plot them just as we did for the membrane voltage."
      ]
    },
    {
      "cell_type": "code",
      "metadata": {
        "colab": {
          "base_uri": "https://localhost:8080/"
        },
        "id": "vBwlCoGYoGMr",
        "outputId": "d44c8a04-a231-4d33-8f09-ef4d7db74e98"
      },
      "source": [
        "m_na = h.Vector()\n",
        "h_na = h.Vector()\n",
        "n_k = h.Vector()\n",
        "\n",
        "m_na.record(soma(0.5)._ref_m_hh)\n",
        "h_na.record(soma(0.5)._ref_h_hh)\n",
        "n_k.record(soma(0.5)._ref_n_hh)\n",
        "\n",
        "h.run()"
      ],
      "execution_count": 8,
      "outputs": [
        {
          "output_type": "execute_result",
          "data": {
            "text/plain": [
              "0.0"
            ]
          },
          "metadata": {},
          "execution_count": 8
        }
      ]
    },
    {
      "cell_type": "markdown",
      "metadata": {
        "id": "EUO0fYy7oGMs"
      },
      "source": [
        "## 8) <u>Visualize membrane potential and gating variables together\n",
        "### This should look familiar. We're just going to plot all of the variables we just recorded at the same time so we can investigate how spikes occur."
      ]
    },
    {
      "cell_type": "code",
      "metadata": {
        "colab": {
          "base_uri": "https://localhost:8080/",
          "height": 606
        },
        "id": "0D4GbfMfoGMs",
        "outputId": "dd71ae7c-bb38-474d-d9ee-edcea98577ef"
      },
      "source": [
        "plt.figure(figsize=(10,10))\n",
        "plt.subplot(2,1,1)\n",
        "plt.plot(t_vec, v0_vec,'b')\n",
        "plt.xlim(0, tstop)\n",
        "plt.ylabel('mV')\n",
        "\n",
        "plt.subplot(2,1,2)\n",
        "plt.plot(t_vec, m_na,'r')\n",
        "plt.plot(t_vec, h_na,'b')\n",
        "plt.plot(t_vec, n_k, 'g')\n",
        "plt.xlim(0, tstop)\n",
        "plt.xlabel('time (ms)')\n",
        "plt.ylabel('Probability')\n",
        "plt.legend(['m','h','n'])\n",
        "\n",
        "plt.show()"
      ],
      "execution_count": 9,
      "outputs": [
        {
          "output_type": "display_data",
          "data": {
            "image/png": "[encoded data removed]",
            "text/plain": [
              "<Figure size 720x720 with 2 Axes>"
            ]
          },
          "metadata": {
            "needs_background": "light"
          }
        }
      ]
    },
    {
      "cell_type": "markdown",
      "metadata": {
        "id": "KJiAqIq0oGMt"
      },
      "source": [
        "### You did it! Now you understand how a neuron is implemented in code. Time for the hard part... understanding the science and math behind those spikes. You can move on to the next section and change variables (such as the conductances of the Na and K channels) using the interactive controls to see the effects.\n",
        "\n",
        "## 9) <u> Interact with the model\n",
        "\n",
        "##### So far, we've built the cell and simulated it with one set of parameters. But what if we want to change the parameters to see the effect on the output? In this part of the tutorial, we'll set the model up and then use sliders to interact with the parameters. Don't worry about all the code that's coming up, it's just a repeat of what we've already done."
      ]
    },
    {
      "cell_type": "code",
      "metadata": {
        "id": "HioHV908oGMu"
      },
      "source": [
        "from neuron import h\n",
        "import ipywidgets as widgets\n",
        "from ipywidgets import HBox,VBox,Label,Layout\n",
        "from IPython.display import display\n",
        "import matplotlib.pyplot as plt\n",
        "%matplotlib inline\n",
        "\n",
        "h.load_file('stdrun.hoc')\n",
        "\n",
        "soma = h.Section(name='soma')\n",
        "soma.L = 100 # um\n",
        "soma.insert('hh')\n",
        "stim = h.IClamp(soma(0.5))\n",
        "\n",
        "v0_vec = h.Vector()\n",
        "t_vec = h.Vector()\n",
        "m_na = h.Vector()\n",
        "h_na = h.Vector()\n",
        "n_k = h.Vector()\n",
        "m_na.record(soma(0.5)._ref_m_hh)\n",
        "h_na.record(soma(0.5)._ref_h_hh)\n",
        "n_k.record(soma(0.5)._ref_n_hh)\n",
        "v0_vec.record(soma(0.5)._ref_v)\n",
        "t_vec.record(h._ref_t)\n",
        "\n",
        "def activemodel(diam,cm,el,gl,gna,gk,tstop,dur,amp,fig):\n",
        "    soma.diam = diam\n",
        "    soma.cm = cm*1.4884e-4/6.2832e-4\n",
        "    soma.gnabar_hh = gna*1e-3\n",
        "    soma.gkbar_hh = gk*1e-3\n",
        "    soma.gl_hh = gl*1e-6\n",
        "    soma.el_hh = el\n",
        "\n",
        "    stim.delay = dur[0]\n",
        "    stim.dur = dur[1]-dur[0]\n",
        "    stim.amp = amp\n",
        "    \n",
        "    h.tstop = tstop\n",
        "    h.v_init = el\n",
        "    h.run()\n",
        "    \n",
        "    plt.close()\n",
        "    plt.figure(figsize=(12,10))\n",
        "    plt.subplot(2,1,1)\n",
        "    plt.plot(t_vec, v0_vec,'b')\n",
        "    plt.xlim(0, tstop)\n",
        "    plt.ylabel('mV')\n",
        "    plt.legend('V')\n",
        "    plt.subplot(2,1,2)\n",
        "    plt.plot(t_vec, m_na,'r')\n",
        "    plt.plot(t_vec, h_na,'b')\n",
        "    plt.plot(t_vec, n_k, 'g')\n",
        "    plt.xlim(0, tstop)\n",
        "    plt.xlabel('time (ms)')\n",
        "    plt.ylabel('Probability')\n",
        "    plt.legend(['m','h','n'])\n",
        "    plt.show()"
      ],
      "execution_count": null,
      "outputs": []
    },
    {
      "cell_type": "code",
      "metadata": {
        "id": "a2I935ruoGMv"
      },
      "source": [
        "# default settings\n",
        "diam = 200\n",
        "cm = 1\n",
        "el = -70\n",
        "gl = 30\n",
        "gna0 = 120\n",
        "gk0 = 12\n",
        "tstop = 500\n",
        "dur = [100,400]\n",
        "amp = 0.1\n",
        "\n",
        "w_reset = widgets.Button(description='Reset',icon='history',button_style='primary')\n",
        "w_fig = widgets.ToggleButton(value=False,description='Interactive plot',icon='window-restore',button_style='success')\n",
        "w_pass = widgets.ToggleButton(value=False,icon='check',button_style='info',description='Toggle')\n",
        "w_el = widgets.FloatSlider(value=el,min=-80,max=-60,step=.2,continuous_update=False,readout_format='.1f')\n",
        "w_gl = widgets.FloatSlider(value=gl,min=5,max=50,step=.2,continuous_update=False,readout_format='.1f')\n",
        "w_gna = widgets.FloatSlider(value=gna0,min=0,max=200,step=.5,continuous_update=False,readout_format='.1f')\n",
        "w_gk = widgets.FloatSlider(value=gk0,min=0,max=30,step=.1,continuous_update=False,readout_format='.1f')\n",
        "\n",
        "w_tstop = widgets.FloatText(value=tstop)\n",
        "w_dur = widgets.FloatRangeSlider(value=dur,min=0,max=500,step=5,continuous_update=False,readout_format='.0f')\n",
        "w_amp = widgets.FloatLogSlider(value=amp,min=-3,max=1,step=.04,continuous_update=False,readout_format='.3f')\n",
        "w_diam = widgets.FloatSlider(value=diam,min=100,max=300,step=2,continuous_update=False,readout_format='.0f')\n",
        "w_cm = widgets.FloatLogSlider(value=cm,min=-1,max=1,step=.05,continuous_update=False,readout_format='.1f')\n",
        "\n",
        "def reset_default(*args):\n",
        "    w_pass.value = False\n",
        "    w_el.value = el; w_gl.value = gl\n",
        "    w_gna.value = gna0; w_gk.value = gk0\n",
        "    w_gna.disabled = w_gk.disabled = False\n",
        "    w_dur.max = w_tstop.value = tstop; w_dur.value = dur\n",
        "    w_diam.value = diam; w_cm.value = cm\n",
        "w_reset.on_click(reset_default)\n",
        "\n",
        "def interactive_fig(*arg):\n",
        "    if w_fig.value:\n",
        "        w_fig.icon = 'window-maximize'; w_fig.description='Inline plot'\n",
        "        %matplotlib notebook\n",
        "        %matplotlib notebook\n",
        "    else:\n",
        "        w_fig.icon = 'window-restore'; w_fig.description='Interactive plot'\n",
        "        %matplotlib inline\n",
        "w_fig.observe(interactive_fig,'value')\n",
        "\n",
        "def update_pass(*args):\n",
        "    if w_pass.value:\n",
        "        global gna,gk\n",
        "        gna = w_gna.value\n",
        "        gk = w_gk.value\n",
        "        w_gna.value = w_gk.value = 0\n",
        "        w_gna.disabled = w_gk.disabled = True\n",
        "    else:\n",
        "        w_gna.value = gna\n",
        "        w_gk.value = gk\n",
        "        w_gna.disabled = w_gk.disabled = False\n",
        "w_pass.observe(update_pass,'value')\n",
        "\n",
        "def update_dur(*args):\n",
        "    w_dur.max = w_tstop.value\n",
        "w_tstop.observe(update_dur,'value')\n",
        "\n",
        "\n",
        "ui = VBox([HBox([w_reset,w_fig]), HBox([VBox([Label('Passive Cell'),Label('E_l (mV)'),Label('g_leak (μS/cm^2)'),\n",
        "                 Label('g_Na (mS/cm^2)'),Label('g_K (mS/cm^2)')],layout=Layout(width='16%')),\n",
        "           VBox([w_pass,w_el,w_gl,w_gna,w_gk],layout=Layout(width='34%')),\n",
        "           VBox([Label('tstop (ms)'),Label('Injection duration (ms)'),Label('I_inject (nA)'),\n",
        "                 Label('soma diameter (μm)'),Label('capacitance scale')],layout=Layout(width='16%')),\n",
        "           VBox([w_tstop,w_dur,w_amp,w_diam,w_cm],layout=Layout(width='34%')) ]) ])\n",
        "\n",
        "out = widgets.interactive_output(activemodel,{'el':w_el,'gl':w_gl,'gna':w_gna,'gk':w_gk,\n",
        "                                              'tstop':w_tstop,'dur':w_dur,'amp':w_amp,'diam':w_diam,'cm':w_cm,'fig':w_fig})\n",
        "\n",
        "display(ui,out)"
      ],
      "execution_count": null,
      "outputs": []
    },
    {
      "cell_type": "code",
      "metadata": {
        "id": "oiWSXPSnoGMx"
      },
      "source": [
        ""
      ],
      "execution_count": null,
      "outputs": []
    }
  ]
}